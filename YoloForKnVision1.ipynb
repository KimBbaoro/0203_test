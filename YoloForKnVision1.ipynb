{
  "cells": [
    {
      "cell_type": "markdown",
      "metadata": {
        "id": "view-in-github",
        "colab_type": "text"
      },
      "source": [
        "<a href=\"https://colab.research.google.com/github/KimBbaoro/0203_test/blob/main/YoloForKnVision1.ipynb\" target=\"_parent\"><img src=\"https://colab.research.google.com/assets/colab-badge.svg\" alt=\"Open In Colab\"/></a>"
      ]
    },
    {
      "cell_type": "markdown",
      "source": [
        "학습데이터를 위해 roboflow를 이용"
      ],
      "metadata": {
        "id": "yGlf-1ku3O1s"
      }
    },
    {
      "cell_type": "code",
      "source": [
        "!pip install roboflow\n",
        "!pip install ultralytics"
      ],
      "metadata": {
        "colab": {
          "base_uri": "https://localhost:8080/",
          "height": 1000
        },
        "id": "ZWdE7-dDRa6z",
        "outputId": "83bb69b3-6293-4764-91cb-6aa5de533356"
      },
      "execution_count": 1,
      "outputs": [
        {
          "output_type": "stream",
          "name": "stdout",
          "text": [
            "Collecting roboflow\n",
            "  Downloading roboflow-1.1.6-py3-none-any.whl (58 kB)\n",
            "\u001b[?25l     \u001b[90m━━━━━━━━━━━━━━━━━━━━━━━━━━━━━━━━━━━━━━━━\u001b[0m \u001b[32m0.0/58.7 kB\u001b[0m \u001b[31m?\u001b[0m eta \u001b[36m-:--:--\u001b[0m\r\u001b[2K     \u001b[90m━━━━━━━━━━━━━━━━━━━━━━━━━━━━━━━━━━━━━━━━\u001b[0m \u001b[32m58.7/58.7 kB\u001b[0m \u001b[31m2.0 MB/s\u001b[0m eta \u001b[36m0:00:00\u001b[0m\n",
            "\u001b[?25hCollecting certifi==2022.12.7 (from roboflow)\n",
            "  Downloading certifi-2022.12.7-py3-none-any.whl (155 kB)\n",
            "\u001b[?25l     \u001b[90m━━━━━━━━━━━━━━━━━━━━━━━━━━━━━━━━━━━━━━━━\u001b[0m \u001b[32m0.0/155.3 kB\u001b[0m \u001b[31m?\u001b[0m eta \u001b[36m-:--:--\u001b[0m\r\u001b[2K     \u001b[90m━━━━━━━━━━━━━━━━━━━━━━━━━━━━━━━━━━━━━━━\u001b[0m \u001b[32m155.3/155.3 kB\u001b[0m \u001b[31m6.9 MB/s\u001b[0m eta \u001b[36m0:00:00\u001b[0m\n",
            "\u001b[?25hCollecting chardet==4.0.0 (from roboflow)\n",
            "  Downloading chardet-4.0.0-py2.py3-none-any.whl (178 kB)\n",
            "\u001b[2K     \u001b[90m━━━━━━━━━━━━━━━━━━━━━━━━━━━━━━━━━━━━━━\u001b[0m \u001b[32m178.7/178.7 kB\u001b[0m \u001b[31m10.2 MB/s\u001b[0m eta \u001b[36m0:00:00\u001b[0m\n",
            "\u001b[?25hCollecting cycler==0.10.0 (from roboflow)\n",
            "  Downloading cycler-0.10.0-py2.py3-none-any.whl (6.5 kB)\n",
            "Collecting idna==2.10 (from roboflow)\n",
            "  Downloading idna-2.10-py2.py3-none-any.whl (58 kB)\n",
            "\u001b[2K     \u001b[90m━━━━━━━━━━━━━━━━━━━━━━━━━━━━━━━━━━━━━━━━\u001b[0m \u001b[32m58.8/58.8 kB\u001b[0m \u001b[31m5.9 MB/s\u001b[0m eta \u001b[36m0:00:00\u001b[0m\n",
            "\u001b[?25hRequirement already satisfied: kiwisolver>=1.3.1 in /usr/local/lib/python3.10/dist-packages (from roboflow) (1.4.5)\n",
            "Requirement already satisfied: matplotlib in /usr/local/lib/python3.10/dist-packages (from roboflow) (3.7.1)\n",
            "Requirement already satisfied: numpy>=1.18.5 in /usr/local/lib/python3.10/dist-packages (from roboflow) (1.23.5)\n",
            "Collecting opencv-python-headless==4.8.0.74 (from roboflow)\n",
            "  Downloading opencv_python_headless-4.8.0.74-cp37-abi3-manylinux_2_17_x86_64.manylinux2014_x86_64.whl (49.1 MB)\n",
            "\u001b[2K     \u001b[90m━━━━━━━━━━━━━━━━━━━━━━━━━━━━━━━━━━━━━━━━\u001b[0m \u001b[32m49.1/49.1 MB\u001b[0m \u001b[31m38.0 MB/s\u001b[0m eta \u001b[36m0:00:00\u001b[0m\n",
            "\u001b[?25hRequirement already satisfied: Pillow>=7.1.2 in /usr/local/lib/python3.10/dist-packages (from roboflow) (9.4.0)\n",
            "Collecting pyparsing==2.4.7 (from roboflow)\n",
            "  Downloading pyparsing-2.4.7-py2.py3-none-any.whl (67 kB)\n",
            "\u001b[2K     \u001b[90m━━━━━━━━━━━━━━━━━━━━━━━━━━━━━━━━━━━━━━━━\u001b[0m \u001b[32m67.8/67.8 kB\u001b[0m \u001b[31m8.7 MB/s\u001b[0m eta \u001b[36m0:00:00\u001b[0m\n",
            "\u001b[?25hRequirement already satisfied: python-dateutil in /usr/local/lib/python3.10/dist-packages (from roboflow) (2.8.2)\n",
            "Collecting python-dotenv (from roboflow)\n",
            "  Downloading python_dotenv-1.0.0-py3-none-any.whl (19 kB)\n",
            "Requirement already satisfied: requests in /usr/local/lib/python3.10/dist-packages (from roboflow) (2.31.0)\n",
            "Requirement already satisfied: six in /usr/local/lib/python3.10/dist-packages (from roboflow) (1.16.0)\n",
            "Collecting supervision (from roboflow)\n",
            "  Downloading supervision-0.14.0-py3-none-any.whl (63 kB)\n",
            "\u001b[2K     \u001b[90m━━━━━━━━━━━━━━━━━━━━━━━━━━━━━━━━━━━━━━━━\u001b[0m \u001b[32m63.3/63.3 kB\u001b[0m \u001b[31m7.9 MB/s\u001b[0m eta \u001b[36m0:00:00\u001b[0m\n",
            "\u001b[?25hRequirement already satisfied: urllib3>=1.26.6 in /usr/local/lib/python3.10/dist-packages (from roboflow) (2.0.4)\n",
            "Requirement already satisfied: tqdm>=4.41.0 in /usr/local/lib/python3.10/dist-packages (from roboflow) (4.66.1)\n",
            "Requirement already satisfied: PyYAML>=5.3.1 in /usr/local/lib/python3.10/dist-packages (from roboflow) (6.0.1)\n",
            "Collecting requests-toolbelt (from roboflow)\n",
            "  Downloading requests_toolbelt-1.0.0-py2.py3-none-any.whl (54 kB)\n",
            "\u001b[2K     \u001b[90m━━━━━━━━━━━━━━━━━━━━━━━━━━━━━━━━━━━━━━━━\u001b[0m \u001b[32m54.5/54.5 kB\u001b[0m \u001b[31m6.8 MB/s\u001b[0m eta \u001b[36m0:00:00\u001b[0m\n",
            "\u001b[?25hRequirement already satisfied: contourpy>=1.0.1 in /usr/local/lib/python3.10/dist-packages (from matplotlib->roboflow) (1.1.0)\n",
            "Requirement already satisfied: fonttools>=4.22.0 in /usr/local/lib/python3.10/dist-packages (from matplotlib->roboflow) (4.42.1)\n",
            "Requirement already satisfied: packaging>=20.0 in /usr/local/lib/python3.10/dist-packages (from matplotlib->roboflow) (23.1)\n",
            "Requirement already satisfied: charset-normalizer<4,>=2 in /usr/local/lib/python3.10/dist-packages (from requests->roboflow) (3.2.0)\n",
            "Requirement already satisfied: scipy<2.0.0,>=1.9.0 in /usr/local/lib/python3.10/dist-packages (from supervision->roboflow) (1.11.2)\n",
            "Installing collected packages: python-dotenv, pyparsing, opencv-python-headless, idna, cycler, chardet, certifi, supervision, requests-toolbelt, roboflow\n",
            "  Attempting uninstall: pyparsing\n",
            "    Found existing installation: pyparsing 3.1.1\n",
            "    Uninstalling pyparsing-3.1.1:\n",
            "      Successfully uninstalled pyparsing-3.1.1\n",
            "  Attempting uninstall: opencv-python-headless\n",
            "    Found existing installation: opencv-python-headless 4.8.0.76\n",
            "    Uninstalling opencv-python-headless-4.8.0.76:\n",
            "      Successfully uninstalled opencv-python-headless-4.8.0.76\n",
            "  Attempting uninstall: idna\n",
            "    Found existing installation: idna 3.4\n",
            "    Uninstalling idna-3.4:\n",
            "      Successfully uninstalled idna-3.4\n",
            "  Attempting uninstall: cycler\n",
            "    Found existing installation: cycler 0.11.0\n",
            "    Uninstalling cycler-0.11.0:\n",
            "      Successfully uninstalled cycler-0.11.0\n",
            "  Attempting uninstall: chardet\n",
            "    Found existing installation: chardet 5.2.0\n",
            "    Uninstalling chardet-5.2.0:\n",
            "      Successfully uninstalled chardet-5.2.0\n",
            "  Attempting uninstall: certifi\n",
            "    Found existing installation: certifi 2023.7.22\n",
            "    Uninstalling certifi-2023.7.22:\n",
            "      Successfully uninstalled certifi-2023.7.22\n",
            "Successfully installed certifi-2022.12.7 chardet-4.0.0 cycler-0.10.0 idna-2.10 opencv-python-headless-4.8.0.74 pyparsing-2.4.7 python-dotenv-1.0.0 requests-toolbelt-1.0.0 roboflow-1.1.6 supervision-0.14.0\n"
          ]
        },
        {
          "output_type": "display_data",
          "data": {
            "application/vnd.colab-display-data+json": {
              "pip_warning": {
                "packages": [
                  "certifi",
                  "cycler",
                  "pyparsing"
                ]
              }
            }
          },
          "metadata": {}
        },
        {
          "output_type": "stream",
          "name": "stdout",
          "text": [
            "Collecting ultralytics\n",
            "  Downloading ultralytics-8.0.184-py3-none-any.whl (618 kB)\n",
            "\u001b[?25l     \u001b[90m━━━━━━━━━━━━━━━━━━━━━━━━━━━━━━━━━━━━━━━━\u001b[0m \u001b[32m0.0/618.0 kB\u001b[0m \u001b[31m?\u001b[0m eta \u001b[36m-:--:--\u001b[0m\r\u001b[2K     \u001b[91m━━━━━━━━━\u001b[0m\u001b[91m╸\u001b[0m\u001b[90m━━━━━━━━━━━━━━━━━━━━━━━━━━━━━\u001b[0m \u001b[32m153.6/618.0 kB\u001b[0m \u001b[31m4.5 MB/s\u001b[0m eta \u001b[36m0:00:01\u001b[0m\r\u001b[2K     \u001b[91m━━━━━━━━━━━━━━━━━━━━━━━━━━━━━━━━━━━━━━\u001b[0m\u001b[91m╸\u001b[0m \u001b[32m614.4/618.0 kB\u001b[0m \u001b[31m8.9 MB/s\u001b[0m eta \u001b[36m0:00:01\u001b[0m\r\u001b[2K     \u001b[90m━━━━━━━━━━━━━━━━━━━━━━━━━━━━━━━━━━━━━━━\u001b[0m \u001b[32m618.0/618.0 kB\u001b[0m \u001b[31m7.8 MB/s\u001b[0m eta \u001b[36m0:00:00\u001b[0m\n",
            "\u001b[?25hRequirement already satisfied: matplotlib>=3.3.0 in /usr/local/lib/python3.10/dist-packages (from ultralytics) (3.7.1)\n",
            "Requirement already satisfied: numpy>=1.22.2 in /usr/local/lib/python3.10/dist-packages (from ultralytics) (1.23.5)\n",
            "Requirement already satisfied: opencv-python>=4.6.0 in /usr/local/lib/python3.10/dist-packages (from ultralytics) (4.8.0.76)\n",
            "Requirement already satisfied: pillow>=7.1.2 in /usr/local/lib/python3.10/dist-packages (from ultralytics) (9.4.0)\n",
            "Requirement already satisfied: pyyaml>=5.3.1 in /usr/local/lib/python3.10/dist-packages (from ultralytics) (6.0.1)\n",
            "Requirement already satisfied: requests>=2.23.0 in /usr/local/lib/python3.10/dist-packages (from ultralytics) (2.31.0)\n",
            "Requirement already satisfied: scipy>=1.4.1 in /usr/local/lib/python3.10/dist-packages (from ultralytics) (1.11.2)\n",
            "Requirement already satisfied: torch>=1.8.0 in /usr/local/lib/python3.10/dist-packages (from ultralytics) (2.0.1+cu118)\n",
            "Requirement already satisfied: torchvision>=0.9.0 in /usr/local/lib/python3.10/dist-packages (from ultralytics) (0.15.2+cu118)\n",
            "Requirement already satisfied: tqdm>=4.64.0 in /usr/local/lib/python3.10/dist-packages (from ultralytics) (4.66.1)\n",
            "Requirement already satisfied: pandas>=1.1.4 in /usr/local/lib/python3.10/dist-packages (from ultralytics) (1.5.3)\n",
            "Requirement already satisfied: seaborn>=0.11.0 in /usr/local/lib/python3.10/dist-packages (from ultralytics) (0.12.2)\n",
            "Requirement already satisfied: psutil in /usr/local/lib/python3.10/dist-packages (from ultralytics) (5.9.5)\n",
            "Requirement already satisfied: py-cpuinfo in /usr/local/lib/python3.10/dist-packages (from ultralytics) (9.0.0)\n",
            "Requirement already satisfied: contourpy>=1.0.1 in /usr/local/lib/python3.10/dist-packages (from matplotlib>=3.3.0->ultralytics) (1.1.0)\n",
            "Requirement already satisfied: cycler>=0.10 in /usr/local/lib/python3.10/dist-packages (from matplotlib>=3.3.0->ultralytics) (0.10.0)\n",
            "Requirement already satisfied: fonttools>=4.22.0 in /usr/local/lib/python3.10/dist-packages (from matplotlib>=3.3.0->ultralytics) (4.42.1)\n",
            "Requirement already satisfied: kiwisolver>=1.0.1 in /usr/local/lib/python3.10/dist-packages (from matplotlib>=3.3.0->ultralytics) (1.4.5)\n",
            "Requirement already satisfied: packaging>=20.0 in /usr/local/lib/python3.10/dist-packages (from matplotlib>=3.3.0->ultralytics) (23.1)\n",
            "Requirement already satisfied: pyparsing>=2.3.1 in /usr/local/lib/python3.10/dist-packages (from matplotlib>=3.3.0->ultralytics) (2.4.7)\n",
            "Requirement already satisfied: python-dateutil>=2.7 in /usr/local/lib/python3.10/dist-packages (from matplotlib>=3.3.0->ultralytics) (2.8.2)\n",
            "Requirement already satisfied: pytz>=2020.1 in /usr/local/lib/python3.10/dist-packages (from pandas>=1.1.4->ultralytics) (2023.3.post1)\n",
            "Requirement already satisfied: charset-normalizer<4,>=2 in /usr/local/lib/python3.10/dist-packages (from requests>=2.23.0->ultralytics) (3.2.0)\n",
            "Requirement already satisfied: idna<4,>=2.5 in /usr/local/lib/python3.10/dist-packages (from requests>=2.23.0->ultralytics) (2.10)\n",
            "Requirement already satisfied: urllib3<3,>=1.21.1 in /usr/local/lib/python3.10/dist-packages (from requests>=2.23.0->ultralytics) (2.0.4)\n",
            "Requirement already satisfied: certifi>=2017.4.17 in /usr/local/lib/python3.10/dist-packages (from requests>=2.23.0->ultralytics) (2022.12.7)\n",
            "Requirement already satisfied: filelock in /usr/local/lib/python3.10/dist-packages (from torch>=1.8.0->ultralytics) (3.12.2)\n",
            "Requirement already satisfied: typing-extensions in /usr/local/lib/python3.10/dist-packages (from torch>=1.8.0->ultralytics) (4.5.0)\n",
            "Requirement already satisfied: sympy in /usr/local/lib/python3.10/dist-packages (from torch>=1.8.0->ultralytics) (1.12)\n",
            "Requirement already satisfied: networkx in /usr/local/lib/python3.10/dist-packages (from torch>=1.8.0->ultralytics) (3.1)\n",
            "Requirement already satisfied: jinja2 in /usr/local/lib/python3.10/dist-packages (from torch>=1.8.0->ultralytics) (3.1.2)\n",
            "Requirement already satisfied: triton==2.0.0 in /usr/local/lib/python3.10/dist-packages (from torch>=1.8.0->ultralytics) (2.0.0)\n",
            "Requirement already satisfied: cmake in /usr/local/lib/python3.10/dist-packages (from triton==2.0.0->torch>=1.8.0->ultralytics) (3.27.4.1)\n",
            "Requirement already satisfied: lit in /usr/local/lib/python3.10/dist-packages (from triton==2.0.0->torch>=1.8.0->ultralytics) (16.0.6)\n",
            "Requirement already satisfied: six in /usr/local/lib/python3.10/dist-packages (from cycler>=0.10->matplotlib>=3.3.0->ultralytics) (1.16.0)\n",
            "Requirement already satisfied: MarkupSafe>=2.0 in /usr/local/lib/python3.10/dist-packages (from jinja2->torch>=1.8.0->ultralytics) (2.1.3)\n",
            "Requirement already satisfied: mpmath>=0.19 in /usr/local/lib/python3.10/dist-packages (from sympy->torch>=1.8.0->ultralytics) (1.3.0)\n",
            "Installing collected packages: ultralytics\n",
            "Successfully installed ultralytics-8.0.184\n"
          ]
        }
      ]
    },
    {
      "cell_type": "code",
      "execution_count": 2,
      "metadata": {
        "id": "-bxUS_3IKGHh",
        "colab": {
          "base_uri": "https://localhost:8080/"
        },
        "outputId": "926316ca-b85c-4081-bba5-4c2631da7c8b"
      },
      "outputs": [
        {
          "output_type": "stream",
          "name": "stdout",
          "text": [
            "loading Roboflow workspace...\n",
            "loading Roboflow project...\n",
            "Dependency ultralytics==8.0.134 is required but found version=8.0.184, to fix: `pip install ultralytics==8.0.134`\n"
          ]
        },
        {
          "output_type": "stream",
          "name": "stderr",
          "text": [
            "Downloading Dataset Version Zip in droneDetect1-3 to yolov8:: 100%|██████████| 6780/6780 [00:00<00:00, 8924.90it/s] "
          ]
        },
        {
          "output_type": "stream",
          "name": "stdout",
          "text": [
            "\n"
          ]
        },
        {
          "output_type": "stream",
          "name": "stderr",
          "text": [
            "\n",
            "Extracting Dataset Version Zip to droneDetect1-3 in yolov8:: 100%|██████████| 208/208 [00:00<00:00, 6925.96it/s]\n"
          ]
        }
      ],
      "source": [
        "\n",
        "# from roboflow import Roboflow\n",
        "# rf = Roboflow(api_key=\"8NxlY5bn8DUTKQabntJP\")\n",
        "# project = rf.workspace(\"luvsosa\").project(\"dronedetection-0hfar\")\n",
        "# dataset = project.version(2).download(\"yolov8\")\n",
        "\n",
        "# from roboflow import Roboflow\n",
        "# rf = Roboflow(api_key=\"8NxlY5bn8DUTKQabntJP\")\n",
        "# project = rf.workspace(\"cnn-estudos\").project(\"deteccao-covid19-cnn\")\n",
        "# dataset = project.version(8).download(\"yolov8\")\n",
        "\n",
        "\n",
        "# from roboflow import Roboflow\n",
        "# rf = Roboflow(api_key=\"8NxlY5bn8DUTKQabntJP\")\n",
        "# project = rf.workspace(\"frame-sq1eb\").project(\"dronedetect1\")\n",
        "# dataset = project.version(1).download(\"yolov8\")\n",
        "\n",
        "\n",
        "\n",
        "from roboflow import Roboflow\n",
        "rf = Roboflow(api_key=\"8NxlY5bn8DUTKQabntJP\")\n",
        "project = rf.workspace(\"frame-sq1eb\").project(\"dronedetect1\")\n",
        "dataset = project.version(3).download(\"yolov8\")\n",
        "\n"
      ]
    },
    {
      "cell_type": "markdown",
      "source": [
        "train"
      ],
      "metadata": {
        "id": "-gf906MJaUo9"
      }
    },
    {
      "cell_type": "code",
      "execution_count": 3,
      "metadata": {
        "colab": {
          "base_uri": "https://localhost:8080/"
        },
        "id": "Czog8N7SKsAZ",
        "outputId": "f737b14e-75c1-406c-f212-38fb8a48f5f3"
      },
      "outputs": [
        {
          "output_type": "stream",
          "name": "stdout",
          "text": [
            "names:\n",
            "- car\n",
            "- drone\n",
            "- people\n",
            "- tree\n",
            "nc: 4\n",
            "roboflow:\n",
            "  license: CC BY 4.0\n",
            "  project: dronedetect1\n",
            "  url: https://universe.roboflow.com/frame-sq1eb/dronedetect1/dataset/3\n",
            "  version: 3\n",
            "  workspace: frame-sq1eb\n",
            "test: ../test/images\n",
            "train: droneDetect1-3/train/images\n",
            "val: droneDetect1-3/valid/images\n"
          ]
        }
      ],
      "source": [
        "!cat /content/droneDetect1-3/data.yaml\n",
        "\n"
      ]
    },
    {
      "cell_type": "code",
      "execution_count": 4,
      "metadata": {
        "id": "EE8M2z0vLJPj",
        "colab": {
          "base_uri": "https://localhost:8080/"
        },
        "outputId": "f40d4abc-329f-4274-a24a-28a319d699b7"
      },
      "outputs": [
        {
          "output_type": "stream",
          "name": "stdout",
          "text": [
            "Requirement already satisfied: PyYAML in /usr/local/lib/python3.10/dist-packages (6.0.1)\n"
          ]
        }
      ],
      "source": [
        "!pip install PyYAML"
      ]
    },
    {
      "cell_type": "markdown",
      "source": [
        "roboflow에서 받은 폴더의 yaml 데이터의 주소를 바꾼다.\n"
      ],
      "metadata": {
        "id": "UrLrC9G24ixt"
      }
    },
    {
      "cell_type": "code",
      "execution_count": 5,
      "metadata": {
        "id": "vjRFp4kBo74h",
        "colab": {
          "base_uri": "https://localhost:8080/",
          "height": 106
        },
        "outputId": "06253880-df16-4d2e-f4b1-fcecfe480a35"
      },
      "outputs": [
        {
          "output_type": "display_data",
          "data": {
            "text/plain": [
              "{'names': ['car', 'drone', 'people', 'tree'],\n",
              " 'nc': 4,\n",
              " 'test': '/content/droneDetect1-3/test/images',\n",
              " 'train': '/content/droneDetect1-3/train/images/',\n",
              " 'val': '/content/droneDetect1-3/valid/images'}"
            ]
          },
          "metadata": {}
        }
      ],
      "source": [
        "import yaml\n",
        "#\"test\" : \"/content/droneDetect1-2/test/images\",\n",
        "data = {\n",
        "    \"train\" : \"/content/droneDetect1-3/train/images/\",\n",
        "    \"val\" : \"/content/droneDetect1-3/valid/images\",\n",
        "    \"test\" : \"/content/droneDetect1-3/test/images\",\n",
        "\n",
        "\n",
        "    \"names\":[\"car\", \"drone\", \"people\", \"tree\"],\n",
        "    \"nc\":4\n",
        "}\n",
        "\n",
        "\n",
        "with open(\"/content/droneDetect1-3/data.yaml\", \"w\") as f:\n",
        "  yaml.dump(data, f)\n",
        "\n",
        "with open(\"/content/droneDetect1-3/data.yaml\", \"r\") as f:\n",
        "  drone_yaml = yaml.safe_load(f)\n",
        "  display(drone_yaml)\n",
        "\n",
        "\n",
        "# import yaml\n",
        "\n",
        "# data = {\n",
        "#     \"train\" : \"/content/SDP-5/train/images/\",\n",
        "#     \"val\" : \"/content/SDP-5/valid/images\",\n",
        "#     \"test\" : \"/content/SDP-5/test/images\",\n",
        "#     \"names\":[\n",
        "#     \"AB1\",\n",
        "#     \"AB2\",\n",
        "#     \"C B\",\n",
        "#     \"CB\",\n",
        "#     \"Dog\",\n",
        "#     \"Footpath\",\n",
        "#     \"Generatorroom\",\n",
        "#     \"LH1\",\n",
        "#     \"LH2\",\n",
        "#     \"MH1\",\n",
        "#     \"MH2\",\n",
        "#     \"MH3\",\n",
        "#     \"MH4\",\n",
        "#     \"MH5\",\n",
        "#     \"ROCKPLAZA\",\n",
        "#     \"bag\",\n",
        "#     \"barricade\",\n",
        "#     \"bench\",\n",
        "#     \"bike\",\n",
        "#     \"bus\",\n",
        "#     \"car\",\n",
        "#     \"cement pot\",\n",
        "#     \"central block\",\n",
        "#     \"cycle\",\n",
        "#     \"direction board\",\n",
        "#     \"dog\",\n",
        "#     \"dustbin\",\n",
        "#     \"fire hose\",\n",
        "#     \"flag pole\",\n",
        "#     \"flexi\",\n",
        "#     \"footpath\",\n",
        "#     \"gate\",\n",
        "#     \"generator room\",\n",
        "#     \"helmet\",\n",
        "#     \"indoor stadium\",\n",
        "#     \"lamp pole\",\n",
        "#     \"light pole\",\n",
        "#     \"mirror\",\n",
        "#     \"person\",\n",
        "#     \"plants\",\n",
        "#     \"pole\",\n",
        "#     \"rock plaza\",\n",
        "#     \"scooty\",\n",
        "#     \"security cabin\",\n",
        "#     \"shed\",\n",
        "#     \"sign board\",\n",
        "#     \"tower crane\",\n",
        "#     \"tower\",\n",
        "#     \"tree\",\n",
        "#     \"trees\",\n",
        "#     \"trolley truck\",\n",
        "#     \"truck\",\n",
        "# ],\n",
        "#     \"nc\":52\n",
        "# }\n",
        "\n",
        "\n",
        "# with open(\"/content/SDP-5/people_data.yaml\", \"w\") as f:\n",
        "#   yaml.dump(data, f)\n",
        "\n",
        "# with open(\"/content/SDP-5/people_data.yaml\", \"r\") as f:\n",
        "#   people_yaml = yaml.safe_load(f)\n",
        "#   display(people_yaml)"
      ]
    },
    {
      "cell_type": "markdown",
      "source": [
        "yolo8를 사용하기 위해 설치."
      ],
      "metadata": {
        "id": "VveIu4f55e9z"
      }
    },
    {
      "cell_type": "code",
      "execution_count": 6,
      "metadata": {
        "id": "7gQf1-FGqSp_"
      },
      "outputs": [],
      "source": [
        "import ultralytics"
      ]
    },
    {
      "cell_type": "code",
      "execution_count": 7,
      "metadata": {
        "colab": {
          "base_uri": "https://localhost:8080/"
        },
        "id": "XYYRaP28qXGp",
        "outputId": "b10acf7b-308c-4b2a-e6d4-040cc2ab9f60"
      },
      "outputs": [
        {
          "output_type": "stream",
          "name": "stderr",
          "text": [
            "Ultralytics YOLOv8.0.184 🚀 Python-3.10.12 torch-2.0.1+cu118 CUDA:0 (Tesla V100-SXM2-16GB, 16151MiB)\n",
            "Setup complete ✅ (8 CPUs, 51.0 GB RAM, 26.8/166.8 GB disk)\n"
          ]
        }
      ],
      "source": [
        "ultralytics.checks()"
      ]
    },
    {
      "cell_type": "markdown",
      "source": [
        "yolo 모델을 불러온다. ms coco dataset으로 사전학습된 모델을 가져오며 n 즉, 작은 모델을 사용."
      ],
      "metadata": {
        "id": "USxAhjuS5iLF"
      }
    },
    {
      "cell_type": "code",
      "execution_count": 8,
      "metadata": {
        "id": "N8FICSb5qlvC",
        "colab": {
          "base_uri": "https://localhost:8080/"
        },
        "outputId": "6ecbe2e4-551d-4911-d8f6-1ffea29e4545"
      },
      "outputs": [
        {
          "output_type": "stream",
          "name": "stderr",
          "text": [
            "Downloading https://github.com/ultralytics/assets/releases/download/v0.0.0/yolov8n.pt to 'yolov8n.pt'...\n",
            "100%|██████████| 6.23M/6.23M [00:00<00:00, 24.2MB/s]\n"
          ]
        }
      ],
      "source": [
        "from ultralytics import YOLO\n",
        "\n",
        "model = YOLO(\"yolov8n.pt\") #작은 걸로 학습, ms coco dataset으로 사전학습된거."
      ]
    },
    {
      "cell_type": "code",
      "execution_count": 9,
      "metadata": {
        "colab": {
          "base_uri": "https://localhost:8080/"
        },
        "id": "EAWieSIorGxV",
        "outputId": "e92af39a-398b-479c-ca61-48571c5585d3"
      },
      "outputs": [
        {
          "output_type": "stream",
          "name": "stdout",
          "text": [
            "<class 'dict'> 80\n",
            "{0: 'person', 1: 'bicycle', 2: 'car', 3: 'motorcycle', 4: 'airplane', 5: 'bus', 6: 'train', 7: 'truck', 8: 'boat', 9: 'traffic light', 10: 'fire hydrant', 11: 'stop sign', 12: 'parking meter', 13: 'bench', 14: 'bird', 15: 'cat', 16: 'dog', 17: 'horse', 18: 'sheep', 19: 'cow', 20: 'elephant', 21: 'bear', 22: 'zebra', 23: 'giraffe', 24: 'backpack', 25: 'umbrella', 26: 'handbag', 27: 'tie', 28: 'suitcase', 29: 'frisbee', 30: 'skis', 31: 'snowboard', 32: 'sports ball', 33: 'kite', 34: 'baseball bat', 35: 'baseball glove', 36: 'skateboard', 37: 'surfboard', 38: 'tennis racket', 39: 'bottle', 40: 'wine glass', 41: 'cup', 42: 'fork', 43: 'knife', 44: 'spoon', 45: 'bowl', 46: 'banana', 47: 'apple', 48: 'sandwich', 49: 'orange', 50: 'broccoli', 51: 'carrot', 52: 'hot dog', 53: 'pizza', 54: 'donut', 55: 'cake', 56: 'chair', 57: 'couch', 58: 'potted plant', 59: 'bed', 60: 'dining table', 61: 'toilet', 62: 'tv', 63: 'laptop', 64: 'mouse', 65: 'remote', 66: 'keyboard', 67: 'cell phone', 68: 'microwave', 69: 'oven', 70: 'toaster', 71: 'sink', 72: 'refrigerator', 73: 'book', 74: 'clock', 75: 'vase', 76: 'scissors', 77: 'teddy bear', 78: 'hair drier', 79: 'toothbrush'}\n"
          ]
        }
      ],
      "source": [
        "print(type(model.names), len(model.names))\n",
        "print(model.names)"
      ]
    },
    {
      "cell_type": "code",
      "execution_count": 10,
      "metadata": {
        "id": "gwSAsJJyyv1s"
      },
      "outputs": [],
      "source": [
        "import os\n",
        "os.environ['CUDA_LAUNCH_BLOCKING'] = \"1\"\n",
        "os.environ[\"CUDA_VISIBLE_DEVICES\"] = \"0\""
      ]
    },
    {
      "cell_type": "markdown",
      "source": [
        "모델을 학습한다.\n",
        "\n",
        "학습완료 후 best.pt가 파일이 생기며 이 파일은 학습된 파라미터 존재."
      ],
      "metadata": {
        "id": "JTLdsMN15tPt"
      }
    },
    {
      "cell_type": "code",
      "execution_count": 11,
      "metadata": {
        "colab": {
          "base_uri": "https://localhost:8080/"
        },
        "id": "68BTQoTarO55",
        "outputId": "2959b031-8afd-4535-986a-4fb3f1822cbf"
      },
      "outputs": [
        {
          "output_type": "stream",
          "name": "stderr",
          "text": [
            "Ultralytics YOLOv8.0.184 🚀 Python-3.10.12 torch-2.0.1+cu118 CUDA:0 (Tesla V100-SXM2-16GB, 16151MiB)\n",
            "\u001b[34m\u001b[1mengine/trainer: \u001b[0mtask=detect, mode=train, model=yolov8n.pt, data=/content/droneDetect1-3/data.yaml, epochs=20, patience=30, batch=16, imgsz=416, save=True, save_period=-1, cache=False, device=None, workers=8, project=None, name=None, exist_ok=False, pretrained=True, optimizer=auto, verbose=True, seed=0, deterministic=True, single_cls=False, rect=False, cos_lr=False, close_mosaic=10, resume=False, amp=True, fraction=1.0, profile=False, freeze=None, overlap_mask=True, mask_ratio=4, dropout=0.0, val=True, split=val, save_json=False, save_hybrid=False, conf=None, iou=0.7, max_det=300, half=False, dnn=False, plots=True, source=None, show=False, save_txt=False, save_conf=False, save_crop=False, show_labels=True, show_conf=True, vid_stride=1, stream_buffer=False, line_width=None, visualize=False, augment=False, agnostic_nms=False, classes=None, retina_masks=False, boxes=True, format=torchscript, keras=False, optimize=False, int8=False, dynamic=False, simplify=False, opset=None, workspace=4, nms=False, lr0=0.01, lrf=0.01, momentum=0.937, weight_decay=0.0005, warmup_epochs=3.0, warmup_momentum=0.8, warmup_bias_lr=0.1, box=7.5, cls=0.5, dfl=1.5, pose=12.0, kobj=1.0, label_smoothing=0.0, nbs=64, hsv_h=0.015, hsv_s=0.7, hsv_v=0.4, degrees=0.0, translate=0.1, scale=0.5, shear=0.0, perspective=0.0, flipud=0.0, fliplr=0.5, mosaic=1.0, mixup=0.0, copy_paste=0.0, cfg=None, tracker=botsort.yaml, save_dir=runs/detect/train\n",
            "Downloading https://ultralytics.com/assets/Arial.ttf to '/root/.config/Ultralytics/Arial.ttf'...\n",
            "100%|██████████| 755k/755k [00:00<00:00, 4.63MB/s]\n",
            "Overriding model.yaml nc=80 with nc=4\n",
            "\n",
            "                   from  n    params  module                                       arguments                     \n",
            "  0                  -1  1       464  ultralytics.nn.modules.conv.Conv             [3, 16, 3, 2]                 \n",
            "  1                  -1  1      4672  ultralytics.nn.modules.conv.Conv             [16, 32, 3, 2]                \n",
            "  2                  -1  1      7360  ultralytics.nn.modules.block.C2f             [32, 32, 1, True]             \n",
            "  3                  -1  1     18560  ultralytics.nn.modules.conv.Conv             [32, 64, 3, 2]                \n",
            "  4                  -1  2     49664  ultralytics.nn.modules.block.C2f             [64, 64, 2, True]             \n",
            "  5                  -1  1     73984  ultralytics.nn.modules.conv.Conv             [64, 128, 3, 2]               \n",
            "  6                  -1  2    197632  ultralytics.nn.modules.block.C2f             [128, 128, 2, True]           \n",
            "  7                  -1  1    295424  ultralytics.nn.modules.conv.Conv             [128, 256, 3, 2]              \n",
            "  8                  -1  1    460288  ultralytics.nn.modules.block.C2f             [256, 256, 1, True]           \n",
            "  9                  -1  1    164608  ultralytics.nn.modules.block.SPPF            [256, 256, 5]                 \n",
            " 10                  -1  1         0  torch.nn.modules.upsampling.Upsample         [None, 2, 'nearest']          \n",
            " 11             [-1, 6]  1         0  ultralytics.nn.modules.conv.Concat           [1]                           \n",
            " 12                  -1  1    148224  ultralytics.nn.modules.block.C2f             [384, 128, 1]                 \n",
            " 13                  -1  1         0  torch.nn.modules.upsampling.Upsample         [None, 2, 'nearest']          \n",
            " 14             [-1, 4]  1         0  ultralytics.nn.modules.conv.Concat           [1]                           \n",
            " 15                  -1  1     37248  ultralytics.nn.modules.block.C2f             [192, 64, 1]                  \n",
            " 16                  -1  1     36992  ultralytics.nn.modules.conv.Conv             [64, 64, 3, 2]                \n",
            " 17            [-1, 12]  1         0  ultralytics.nn.modules.conv.Concat           [1]                           \n",
            " 18                  -1  1    123648  ultralytics.nn.modules.block.C2f             [192, 128, 1]                 \n",
            " 19                  -1  1    147712  ultralytics.nn.modules.conv.Conv             [128, 128, 3, 2]              \n",
            " 20             [-1, 9]  1         0  ultralytics.nn.modules.conv.Concat           [1]                           \n",
            " 21                  -1  1    493056  ultralytics.nn.modules.block.C2f             [384, 256, 1]                 \n",
            " 22        [15, 18, 21]  1    752092  ultralytics.nn.modules.head.Detect           [4, [64, 128, 256]]           \n",
            "Model summary: 225 layers, 3011628 parameters, 3011612 gradients\n",
            "\n",
            "Transferred 319/355 items from pretrained weights\n",
            "\u001b[34m\u001b[1mTensorBoard: \u001b[0mStart with 'tensorboard --logdir runs/detect/train', view at http://localhost:6006/\n",
            "Freezing layer 'model.22.dfl.conv.weight'\n",
            "\u001b[34m\u001b[1mAMP: \u001b[0mrunning Automatic Mixed Precision (AMP) checks with YOLOv8n...\n",
            "\u001b[34m\u001b[1mAMP: \u001b[0mchecks passed ✅\n",
            "\u001b[34m\u001b[1mtrain: \u001b[0mScanning /content/droneDetect1-3/train/labels... 459 images, 0 backgrounds, 0 corrupt: 100%|██████████| 459/459 [00:00<00:00, 1297.88it/s]\n",
            "\u001b[34m\u001b[1mtrain: \u001b[0mNew cache created: /content/droneDetect1-3/train/labels.cache\n",
            "\u001b[34m\u001b[1malbumentations: \u001b[0mBlur(p=0.01, blur_limit=(3, 7)), MedianBlur(p=0.01, blur_limit=(3, 7)), ToGray(p=0.01), CLAHE(p=0.01, clip_limit=(1, 4.0), tile_grid_size=(8, 8))\n",
            "\u001b[34m\u001b[1mval: \u001b[0mScanning /content/droneDetect1-3/valid/labels... 20 images, 0 backgrounds, 0 corrupt: 100%|██████████| 20/20 [00:00<00:00, 930.40it/s]\n",
            "\u001b[34m\u001b[1mval: \u001b[0mNew cache created: /content/droneDetect1-3/valid/labels.cache\n",
            "Plotting labels to runs/detect/train/labels.jpg... \n",
            "\u001b[34m\u001b[1moptimizer:\u001b[0m 'optimizer=auto' found, ignoring 'lr0=0.01' and 'momentum=0.937' and determining best 'optimizer', 'lr0' and 'momentum' automatically... \n",
            "\u001b[34m\u001b[1moptimizer:\u001b[0m AdamW(lr=0.00125, momentum=0.9) with parameter groups 57 weight(decay=0.0), 64 weight(decay=0.0005), 63 bias(decay=0.0)\n",
            "Image sizes 416 train, 416 val\n",
            "Using 8 dataloader workers\n",
            "Logging results to \u001b[1mruns/detect/train\u001b[0m\n",
            "Starting training for 20 epochs...\n",
            "\n",
            "      Epoch    GPU_mem   box_loss   cls_loss   dfl_loss  Instances       Size\n",
            "       1/20      1.39G       1.86       2.87      1.222        129        416: 100%|██████████| 29/29 [00:09<00:00,  3.17it/s]\n",
            "                 Class     Images  Instances      Box(P          R      mAP50  mAP50-95): 100%|██████████| 1/1 [00:01<00:00,  1.32s/it]\n",
            "                   all         20        191      0.936      0.209      0.632      0.319\n",
            "\n",
            "      Epoch    GPU_mem   box_loss   cls_loss   dfl_loss  Instances       Size\n",
            "       2/20      1.39G      1.765      1.391      1.183        110        416: 100%|██████████| 29/29 [00:03<00:00,  7.50it/s]\n",
            "                 Class     Images  Instances      Box(P          R      mAP50  mAP50-95): 100%|██████████| 1/1 [00:00<00:00,  5.81it/s]\n",
            "                   all         20        191      0.883      0.613      0.752      0.392\n",
            "\n",
            "      Epoch    GPU_mem   box_loss   cls_loss   dfl_loss  Instances       Size\n",
            "       3/20      1.39G      1.726        1.2      1.186        154        416: 100%|██████████| 29/29 [00:03<00:00,  7.48it/s]\n",
            "                 Class     Images  Instances      Box(P          R      mAP50  mAP50-95): 100%|██████████| 1/1 [00:00<00:00,  5.93it/s]\n",
            "                   all         20        191      0.602      0.667       0.74      0.366\n",
            "\n",
            "      Epoch    GPU_mem   box_loss   cls_loss   dfl_loss  Instances       Size\n",
            "       4/20      1.41G        1.7      1.142      1.193         99        416: 100%|██████████| 29/29 [00:03<00:00,  8.03it/s]\n",
            "                 Class     Images  Instances      Box(P          R      mAP50  mAP50-95): 100%|██████████| 1/1 [00:00<00:00,  5.82it/s]\n",
            "                   all         20        191      0.631      0.751      0.838      0.448\n",
            "\n",
            "      Epoch    GPU_mem   box_loss   cls_loss   dfl_loss  Instances       Size\n",
            "       5/20      1.39G      1.652      1.069      1.174        113        416: 100%|██████████| 29/29 [00:03<00:00,  8.11it/s]\n",
            "                 Class     Images  Instances      Box(P          R      mAP50  mAP50-95): 100%|██████████| 1/1 [00:00<00:00,  5.19it/s]\n",
            "                   all         20        191      0.679      0.759      0.796      0.394\n",
            "\n",
            "      Epoch    GPU_mem   box_loss   cls_loss   dfl_loss  Instances       Size\n",
            "       6/20      1.39G      1.635      1.028      1.171        112        416: 100%|██████████| 29/29 [00:03<00:00,  7.73it/s]\n",
            "                 Class     Images  Instances      Box(P          R      mAP50  mAP50-95): 100%|██████████| 1/1 [00:00<00:00,  5.86it/s]\n",
            "                   all         20        191       0.81      0.845      0.859      0.501\n",
            "\n",
            "      Epoch    GPU_mem   box_loss   cls_loss   dfl_loss  Instances       Size\n",
            "       7/20       1.4G      1.602      1.025      1.162        102        416: 100%|██████████| 29/29 [00:03<00:00,  7.97it/s]\n",
            "                 Class     Images  Instances      Box(P          R      mAP50  mAP50-95): 100%|██████████| 1/1 [00:00<00:00,  7.45it/s]\n",
            "                   all         20        191      0.768      0.824      0.849      0.474\n",
            "\n",
            "      Epoch    GPU_mem   box_loss   cls_loss   dfl_loss  Instances       Size\n",
            "       8/20      1.41G      1.622     0.9929      1.162        140        416: 100%|██████████| 29/29 [00:03<00:00,  7.91it/s]\n",
            "                 Class     Images  Instances      Box(P          R      mAP50  mAP50-95): 100%|██████████| 1/1 [00:00<00:00,  6.35it/s]\n",
            "                   all         20        191      0.741       0.81      0.848      0.468\n",
            "\n",
            "      Epoch    GPU_mem   box_loss   cls_loss   dfl_loss  Instances       Size\n",
            "       9/20      1.39G      1.595     0.9576      1.162        120        416: 100%|██████████| 29/29 [00:03<00:00,  7.59it/s]\n",
            "                 Class     Images  Instances      Box(P          R      mAP50  mAP50-95): 100%|██████████| 1/1 [00:00<00:00,  6.37it/s]\n",
            "                   all         20        191      0.768      0.944      0.904      0.537\n",
            "\n",
            "      Epoch    GPU_mem   box_loss   cls_loss   dfl_loss  Instances       Size\n",
            "      10/20      1.39G      1.542     0.9342      1.128        110        416: 100%|██████████| 29/29 [00:03<00:00,  8.10it/s]\n",
            "                 Class     Images  Instances      Box(P          R      mAP50  mAP50-95): 100%|██████████| 1/1 [00:00<00:00,  5.65it/s]\n",
            "                   all         20        191      0.771      0.884      0.909      0.547\n",
            "Closing dataloader mosaic\n",
            "\u001b[34m\u001b[1malbumentations: \u001b[0mBlur(p=0.01, blur_limit=(3, 7)), MedianBlur(p=0.01, blur_limit=(3, 7)), ToGray(p=0.01), CLAHE(p=0.01, clip_limit=(1, 4.0), tile_grid_size=(8, 8))\n",
            "\n",
            "      Epoch    GPU_mem   box_loss   cls_loss   dfl_loss  Instances       Size\n",
            "      11/20       1.4G      1.589     0.9939      1.177         69        416: 100%|██████████| 29/29 [00:07<00:00,  4.14it/s]\n",
            "                 Class     Images  Instances      Box(P          R      mAP50  mAP50-95): 100%|██████████| 1/1 [00:00<00:00,  5.15it/s]\n",
            "                   all         20        191      0.914       0.83      0.934      0.571\n",
            "\n",
            "      Epoch    GPU_mem   box_loss   cls_loss   dfl_loss  Instances       Size\n",
            "      12/20       1.4G      1.587     0.9556      1.179         68        416: 100%|██████████| 29/29 [00:03<00:00,  8.10it/s]\n",
            "                 Class     Images  Instances      Box(P          R      mAP50  mAP50-95): 100%|██████████| 1/1 [00:00<00:00,  6.32it/s]\n",
            "                   all         20        191      0.886      0.906       0.95      0.554\n",
            "\n",
            "      Epoch    GPU_mem   box_loss   cls_loss   dfl_loss  Instances       Size\n",
            "      13/20      1.39G      1.565     0.9322      1.162         61        416: 100%|██████████| 29/29 [00:03<00:00,  8.50it/s]\n",
            "                 Class     Images  Instances      Box(P          R      mAP50  mAP50-95): 100%|██████████| 1/1 [00:00<00:00,  6.07it/s]\n",
            "                   all         20        191       0.85      0.929      0.953      0.557\n",
            "\n",
            "      Epoch    GPU_mem   box_loss   cls_loss   dfl_loss  Instances       Size\n",
            "      14/20      1.39G      1.549     0.9109      1.172         52        416: 100%|██████████| 29/29 [00:03<00:00,  8.05it/s]\n",
            "                 Class     Images  Instances      Box(P          R      mAP50  mAP50-95): 100%|██████████| 1/1 [00:00<00:00,  5.56it/s]\n",
            "                   all         20        191      0.896      0.967      0.962      0.549\n",
            "\n",
            "      Epoch    GPU_mem   box_loss   cls_loss   dfl_loss  Instances       Size\n",
            "      15/20       1.4G       1.52     0.8855      1.147         64        416: 100%|██████████| 29/29 [00:03<00:00,  8.12it/s]\n",
            "                 Class     Images  Instances      Box(P          R      mAP50  mAP50-95): 100%|██████████| 1/1 [00:00<00:00,  6.75it/s]\n",
            "                   all         20        191      0.942      0.953      0.979        0.6\n",
            "\n",
            "      Epoch    GPU_mem   box_loss   cls_loss   dfl_loss  Instances       Size\n",
            "      16/20       1.4G      1.521     0.8719       1.15         57        416: 100%|██████████| 29/29 [00:03<00:00,  8.16it/s]\n",
            "                 Class     Images  Instances      Box(P          R      mAP50  mAP50-95): 100%|██████████| 1/1 [00:00<00:00,  6.61it/s]\n",
            "                   all         20        191       0.93      0.956      0.968      0.593\n",
            "\n",
            "      Epoch    GPU_mem   box_loss   cls_loss   dfl_loss  Instances       Size\n",
            "      17/20      1.39G      1.493     0.8469      1.145         61        416: 100%|██████████| 29/29 [00:03<00:00,  8.00it/s]\n",
            "                 Class     Images  Instances      Box(P          R      mAP50  mAP50-95): 100%|██████████| 1/1 [00:00<00:00,  6.33it/s]\n",
            "                   all         20        191      0.939       0.97      0.966      0.599\n",
            "\n",
            "      Epoch    GPU_mem   box_loss   cls_loss   dfl_loss  Instances       Size\n",
            "      18/20      1.39G      1.494     0.8285      1.139         64        416: 100%|██████████| 29/29 [00:03<00:00,  8.20it/s]\n",
            "                 Class     Images  Instances      Box(P          R      mAP50  mAP50-95): 100%|██████████| 1/1 [00:00<00:00,  6.25it/s]\n",
            "                   all         20        191      0.948      0.983       0.98        0.6\n",
            "\n",
            "      Epoch    GPU_mem   box_loss   cls_loss   dfl_loss  Instances       Size\n",
            "      19/20       1.4G      1.482     0.8193      1.132         63        416: 100%|██████████| 29/29 [00:03<00:00,  8.31it/s]\n",
            "                 Class     Images  Instances      Box(P          R      mAP50  mAP50-95): 100%|██████████| 1/1 [00:00<00:00,  5.98it/s]\n",
            "                   all         20        191      0.955      0.966      0.974      0.618\n",
            "\n",
            "      Epoch    GPU_mem   box_loss   cls_loss   dfl_loss  Instances       Size\n",
            "      20/20       1.4G      1.476     0.8014      1.134         67        416: 100%|██████████| 29/29 [00:03<00:00,  7.90it/s]\n",
            "                 Class     Images  Instances      Box(P          R      mAP50  mAP50-95): 100%|██████████| 1/1 [00:00<00:00,  6.16it/s]\n",
            "                   all         20        191       0.95      0.974      0.972      0.583\n",
            "\n",
            "20 epochs completed in 0.027 hours.\n",
            "Optimizer stripped from runs/detect/train/weights/last.pt, 6.2MB\n",
            "Optimizer stripped from runs/detect/train/weights/best.pt, 6.2MB\n",
            "\n",
            "Validating runs/detect/train/weights/best.pt...\n",
            "Ultralytics YOLOv8.0.184 🚀 Python-3.10.12 torch-2.0.1+cu118 CUDA:0 (Tesla V100-SXM2-16GB, 16151MiB)\n",
            "Model summary (fused): 168 layers, 3006428 parameters, 0 gradients\n",
            "                 Class     Images  Instances      Box(P          R      mAP50  mAP50-95): 100%|██████████| 1/1 [00:00<00:00,  6.26it/s]\n",
            "                   all         20        191      0.954      0.966      0.974      0.619\n",
            "                   car         20        127      0.969      0.937      0.988      0.622\n",
            "                 drone         20         20      0.983          1      0.995      0.554\n",
            "                people         20         27      0.991      0.926      0.948      0.523\n",
            "                  tree         20         17      0.873          1      0.965      0.775\n",
            "Speed: 0.1ms preprocess, 0.9ms inference, 0.0ms loss, 1.0ms postprocess per image\n",
            "Results saved to \u001b[1mruns/detect/train\u001b[0m\n"
          ]
        },
        {
          "output_type": "execute_result",
          "data": {
            "text/plain": [
              "ultralytics.utils.metrics.DetMetrics object with attributes:\n",
              "\n",
              "ap_class_index: array([0, 1, 2, 3])\n",
              "box: ultralytics.utils.metrics.Metric object\n",
              "confusion_matrix: <ultralytics.utils.metrics.ConfusionMatrix object at 0x79e6a3f032b0>\n",
              "fitness: 0.6541786728419288\n",
              "keys: ['metrics/precision(B)', 'metrics/recall(B)', 'metrics/mAP50(B)', 'metrics/mAP50-95(B)']\n",
              "maps: array([    0.62164,     0.55422,     0.52347,     0.77521])\n",
              "names: {0: 'car', 1: 'drone', 2: 'people', 3: 'tree'}\n",
              "plot: True\n",
              "results_dict: {'metrics/precision(B)': 0.9540950577876065, 'metrics/recall(B)': 0.9657334499854185, 'metrics/mAP50(B)': 0.9740624188577905, 'metrics/mAP50-95(B)': 0.6186360343957219, 'fitness': 0.6541786728419288}\n",
              "save_dir: PosixPath('runs/detect/train')\n",
              "speed: {'preprocess': 0.0704646110534668, 'inference': 0.8844137191772461, 'loss': 0.0005245208740234375, 'postprocess': 1.048719882965088}"
            ]
          },
          "metadata": {},
          "execution_count": 11
        }
      ],
      "source": [
        "model.train(data=\"/content/droneDetect1-3/data.yaml\", epochs=20, patience=30, batch=16, imgsz=416)"
      ]
    },
    {
      "cell_type": "markdown",
      "metadata": {
        "id": "9iNZswsO4BjG"
      },
      "source": []
    },
    {
      "cell_type": "code",
      "execution_count": 12,
      "metadata": {
        "id": "fYo130azvzTV",
        "colab": {
          "base_uri": "https://localhost:8080/"
        },
        "outputId": "bad05954-952e-4ccf-e1b6-3ca71cff414c"
      },
      "outputs": [
        {
          "output_type": "stream",
          "name": "stderr",
          "text": [
            "\n",
            "image 1/20 /content/droneDetect1-3/test/images/image_16_jpg.rf.0bb00758798889417e410e7ecf2f2337.jpg: 416x416 7 cars, 1 drone, 1 people, 1 tree, 9.5ms\n",
            "image 2/20 /content/droneDetect1-3/test/images/image_200_jpg.rf.cbd5d3af1a09d79f548bbddf25c04ebb.jpg: 416x416 7 cars, 1 drone, 1 people, 1 tree, 9.7ms\n",
            "image 3/20 /content/droneDetect1-3/test/images/image_260_jpg.rf.32645d06f23a004518c5859ef5f40f88.jpg: 416x416 9 cars, 1 drone, 1 people, 1 tree, 11.3ms\n",
            "image 4/20 /content/droneDetect1-3/test/images/image_276_jpg.rf.e1882ac5f527e2af9a092818d386bcce.jpg: 416x416 8 cars, 1 drone, 1 people, 1 tree, 9.8ms\n",
            "image 5/20 /content/droneDetect1-3/test/images/image_340_jpg.rf.eb5f815755b38bbe958785a08dcf5939.jpg: 416x416 8 cars, 1 drone, 1 people, 1 tree, 10.6ms\n",
            "image 6/20 /content/droneDetect1-3/test/images/image_348_jpg.rf.ec29ad38ddc215c401f93deaa80cd9fc.jpg: 416x416 7 cars, 1 drone, 1 people, 1 tree, 10.2ms\n",
            "image 7/20 /content/droneDetect1-3/test/images/image_364_jpg.rf.c6fdd56d6937632d55b9f6b258276612.jpg: 416x416 6 cars, 1 drone, 1 people, 1 tree, 9.9ms\n",
            "image 8/20 /content/droneDetect1-3/test/images/image_388_jpg.rf.f8192d17e89957f502a8a33a9a2974b8.jpg: 416x416 2 cars, 1 drone, 4 peoples, 1 tree, 9.6ms\n",
            "image 9/20 /content/droneDetect1-3/test/images/image_460_jpg.rf.1ca40e040f0dbe365f3f9a2d6e7738d2.jpg: 416x416 2 cars, 1 drone, 3 peoples, 1 tree, 11.4ms\n",
            "image 10/20 /content/droneDetect1-3/test/images/image_476_jpg.rf.6411d343f53edd2e1783152424d77d30.jpg: 416x416 2 cars, 1 drone, 3 peoples, 1 tree, 10.1ms\n",
            "image 11/20 /content/droneDetect1-3/test/images/image_492_jpg.rf.c09ae374966f82a4d98596265f520129.jpg: 416x416 2 cars, 1 drone, 3 peoples, 1 tree, 10.2ms\n",
            "image 12/20 /content/droneDetect1-3/test/images/image_532_jpg.rf.fc63e2f6f652d764bacf808d08b421b8.jpg: 416x416 1 drone, 1 tree, 10.2ms\n",
            "image 13/20 /content/droneDetect1-3/test/images/image_608_jpg.rf.16f8ef06ba1016a1ddf39faff871db40.jpg: 416x416 7 cars, 1 drone, 1 people, 1 tree, 10.3ms\n",
            "image 14/20 /content/droneDetect1-3/test/images/image_60_jpg.rf.9f6e80cf47d058e7fcb4748202c7d75f.jpg: 416x416 7 cars, 1 drone, 1 people, 1 tree, 10.1ms\n",
            "image 15/20 /content/droneDetect1-3/test/images/image_68_jpg.rf.403b13a1304ace35a4d79b80d0ca7e6a.jpg: 416x416 8 cars, 1 drone, 1 people, 1 tree, 9.7ms\n",
            "image 16/20 /content/droneDetect1-3/test/images/image_740_jpg.rf.6c6e1b454750ae86d8d7ad36bb8e6f2d.jpg: 416x416 8 cars, 1 drone, 1 people, 1 tree, 9.8ms\n",
            "image 17/20 /content/droneDetect1-3/test/images/image_752_jpg.rf.bddfb1a3023ca244924b946a1f4615ef.jpg: 416x416 7 cars, 1 drone, 2 peoples, 1 tree, 10.4ms\n",
            "image 18/20 /content/droneDetect1-3/test/images/image_764_jpg.rf.3c5b87aef9e6099095c8794054dd1962.jpg: 416x416 7 cars, 1 drone, 2 peoples, 1 tree, 9.9ms\n",
            "image 19/20 /content/droneDetect1-3/test/images/image_768_jpg.rf.08481888b763e343069c5892b608cb8b.jpg: 416x416 8 cars, 1 drone, 2 peoples, 1 tree, 10.0ms\n",
            "image 20/20 /content/droneDetect1-3/test/images/image_828_jpg.rf.34445902ac2f1428a86920f217908312.jpg: 416x416 7 cars, 1 drone, 2 peoples, 1 tree, 9.5ms\n",
            "Speed: 1.4ms preprocess, 10.1ms inference, 2.2ms postprocess per image at shape (1, 3, 416, 416)\n",
            "Results saved to \u001b[1mruns/detect/predict\u001b[0m\n"
          ]
        }
      ],
      "source": [
        "results = model.predict(source=\"/content/droneDetect1-3/test/images\", save=True)"
      ]
    },
    {
      "cell_type": "code",
      "source": [
        "import torch\n",
        "torch.save(model.state_dict(), 'test.pt')"
      ],
      "metadata": {
        "id": "7OHKeQ16An59"
      },
      "execution_count": null,
      "outputs": []
    },
    {
      "cell_type": "code",
      "source": [],
      "metadata": {
        "id": "Zu1aVBbfyFWM"
      },
      "execution_count": null,
      "outputs": []
    }
  ],
  "metadata": {
    "colab": {
      "provenance": [],
      "machine_shape": "hm",
      "gpuType": "V100",
      "include_colab_link": true
    },
    "kernelspec": {
      "display_name": "Python 3",
      "name": "python3"
    },
    "language_info": {
      "name": "python"
    },
    "accelerator": "GPU"
  },
  "nbformat": 4,
  "nbformat_minor": 0
}